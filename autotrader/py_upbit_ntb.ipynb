{
 "cells": [
  {
   "cell_type": "code",
   "execution_count": 1,
   "metadata": {},
   "outputs": [],
   "source": [
    "import requests\n",
    "import json\n",
    "import jwt\n",
    "import uuid\n",
    "import hashlib\n",
    "from urllib.parse import urlencode\n",
    "from cert import cert # certification key module\n",
    "\n",
    "# market code 알아오는 코드\n",
    "# market_info_url = \"https://api.upbit.com/v1/market/all\"\n",
    "# market_codes = requests.get(market_info_url).json()\n",
    "# print(market_codes) # 비트코인 : KRW-BTC, 이더리움 : KRW-ETH\n",
    "\n",
    "# market codes list\n",
    "kr_bit = 'KRW-BTC'\n",
    "kr_eth = 'KRW-ETH'\n",
    "\n",
    "# keys\n",
    "access_key = cert.access_key\n",
    "secret_key = cert.secret_key\n",
    "\n",
    "# url\n",
    "server_url = 'https://api.upbit.com/'"
   ]
  },
  {
   "cell_type": "code",
   "execution_count": 2,
   "metadata": {},
   "outputs": [],
   "source": [
    "# candle : 분봉 정보\n",
    "def candle(marketCode=kr_bit, candleType='minutes', candleUnit=5, candleCount=3):\n",
    "    candle_url = server_url + f'v1/candles/{candleType}/{candleUnit}?market={marketCode}&count={candleCount}'\n",
    "    res = requests.get(candle_url).json()\n",
    "    print(json.dumps(res, indent=2))\n",
    "    return res"
   ]
  },
  {
   "cell_type": "code",
   "execution_count": 14,
   "metadata": {},
   "outputs": [],
   "source": [
    "def candle_day(marketCode, candleCount, last_datetime):\n",
    "    candle_url = server_url + f'v1/candles/days?market={marketCode}&count={candleCount}&to={last_datetime}'\n",
    "    res = requests.get(candle_url).json()\n",
    "    # print(json.dumps(res, indent=2))\n",
    "    return res"
   ]
  },
  {
   "cell_type": "code",
   "execution_count": 54,
   "metadata": {},
   "outputs": [],
   "source": [
    "from datetime import date, timedelta\n",
    "\n",
    "def last_datetime_cal(DateTime):\n",
    "    year, month, day = int(DateTime[:4]), int(DateTime[5:7]), int(DateTime[8:10])\n",
    "    datetime_datetime = date(year=year, month=month, day=day)\n",
    "    delta = timedelta(days=1)\n",
    "    new_datetime = datetime_datetime-delta\n",
    "    return str(new_datetime)+'T09:00:00Z'"
   ]
  },
  {
   "cell_type": "code",
   "execution_count": 66,
   "metadata": {},
   "outputs": [
    {
     "name": "stderr",
     "output_type": "stream",
     "text": [
      "C:\\Users\\frank\\AppData\\Local\\Temp/ipykernel_33452/2819572798.py:18: SettingWithCopyWarning: \n",
      "A value is trying to be set on a copy of a slice from a DataFrame\n",
      "\n",
      "See the caveats in the documentation: https://pandas.pydata.org/pandas-docs/stable/user_guide/indexing.html#returning-a-view-versus-a-copy\n",
      "  candle_df['Close'][0] = last_close1\n"
     ]
    }
   ],
   "source": [
    "import pandas as pd\n",
    "import numpy as np\n",
    "\n",
    "last_close1 = np.nan\n",
    "last_datetime = \"2022-03-25T09:00:00Z\"\n",
    "\n",
    "res_df = pd.DataFrame()\n",
    "for _ in range(8):\n",
    "    candle = candle_day(kr_bit, 200, last_datetime)\n",
    "    candle_df = pd.read_json(json.dumps(candle))\n",
    "    candle_df = candle_df[['candle_date_time_kst', 'opening_price', 'high_price', 'low_price', 'prev_closing_price', 'candle_acc_trade_volume']]\n",
    "    candle_df.columns=['DateTime', 'Open', 'High', 'Low', 'Close', 'Volume']\n",
    "    candle_df.set_index('DateTime', drop=True)\n",
    "    last_close2 = candle_df['Close'][len(candle_df)-1]\n",
    "    last_datetime = candle_df['DateTime'][len(candle_df)-1]+'Z'\n",
    "    last_datetime = last_datetime_cal(last_datetime)\n",
    "    candle_df['Close'] = candle_df.Close.shift(1)\n",
    "    candle_df['Close'][0] = last_close1\n",
    "    last_close1 = last_close2\n",
    "    res_df = pd.concat([res_df, candle_df])\n",
    "    res_df.reset_index(drop=True, inplace=True)"
   ]
  },
  {
   "cell_type": "code",
   "execution_count": 67,
   "metadata": {},
   "outputs": [],
   "source": [
    "res_df.set_index('DateTime', inplace=True)\n",
    "res_df.index = pd.to_datetime(res_df.index)\n",
    "res_df.dropna(axis=0, inplace=True)"
   ]
  },
  {
   "cell_type": "code",
   "execution_count": 69,
   "metadata": {},
   "outputs": [
    {
     "data": {
      "text/html": [
       "<div>\n",
       "<style scoped>\n",
       "    .dataframe tbody tr th:only-of-type {\n",
       "        vertical-align: middle;\n",
       "    }\n",
       "\n",
       "    .dataframe tbody tr th {\n",
       "        vertical-align: top;\n",
       "    }\n",
       "\n",
       "    .dataframe thead th {\n",
       "        text-align: right;\n",
       "    }\n",
       "</style>\n",
       "<table border=\"1\" class=\"dataframe\">\n",
       "  <thead>\n",
       "    <tr style=\"text-align: right;\">\n",
       "      <th></th>\n",
       "      <th>Open</th>\n",
       "      <th>High</th>\n",
       "      <th>Low</th>\n",
       "      <th>Close</th>\n",
       "      <th>Volume</th>\n",
       "    </tr>\n",
       "    <tr>\n",
       "      <th>DateTime</th>\n",
       "      <th></th>\n",
       "      <th></th>\n",
       "      <th></th>\n",
       "      <th></th>\n",
       "      <th></th>\n",
       "    </tr>\n",
       "  </thead>\n",
       "  <tbody>\n",
       "    <tr>\n",
       "      <th>2022-03-24 09:00:00</th>\n",
       "      <td>52138000</td>\n",
       "      <td>53416000</td>\n",
       "      <td>51800000</td>\n",
       "      <td>52966000.0</td>\n",
       "      <td>7289.941854</td>\n",
       "    </tr>\n",
       "    <tr>\n",
       "      <th>2022-03-23 09:00:00</th>\n",
       "      <td>51689000</td>\n",
       "      <td>52232000</td>\n",
       "      <td>51118000</td>\n",
       "      <td>52138000.0</td>\n",
       "      <td>5293.402954</td>\n",
       "    </tr>\n",
       "    <tr>\n",
       "      <th>2022-03-22 09:00:00</th>\n",
       "      <td>50128000</td>\n",
       "      <td>52396000</td>\n",
       "      <td>50013000</td>\n",
       "      <td>51704000.0</td>\n",
       "      <td>8395.367481</td>\n",
       "    </tr>\n",
       "    <tr>\n",
       "      <th>2022-03-21 09:00:00</th>\n",
       "      <td>50471000</td>\n",
       "      <td>50756000</td>\n",
       "      <td>49832000</td>\n",
       "      <td>50128000.0</td>\n",
       "      <td>4418.715829</td>\n",
       "    </tr>\n",
       "    <tr>\n",
       "      <th>2022-03-20 09:00:00</th>\n",
       "      <td>51245000</td>\n",
       "      <td>51350000</td>\n",
       "      <td>50001000</td>\n",
       "      <td>50462000.0</td>\n",
       "      <td>4050.028652</td>\n",
       "    </tr>\n",
       "    <tr>\n",
       "      <th>...</th>\n",
       "      <td>...</td>\n",
       "      <td>...</td>\n",
       "      <td>...</td>\n",
       "      <td>...</td>\n",
       "      <td>...</td>\n",
       "    </tr>\n",
       "    <tr>\n",
       "      <th>2017-11-11 09:00:00</th>\n",
       "      <td>7541000</td>\n",
       "      <td>7897000</td>\n",
       "      <td>7009000</td>\n",
       "      <td>7231000.0</td>\n",
       "      <td>3407.257305</td>\n",
       "    </tr>\n",
       "    <tr>\n",
       "      <th>2017-11-10 09:00:00</th>\n",
       "      <td>8150000</td>\n",
       "      <td>8240000</td>\n",
       "      <td>7320000</td>\n",
       "      <td>7541000.0</td>\n",
       "      <td>3612.895643</td>\n",
       "    </tr>\n",
       "    <tr>\n",
       "      <th>2017-11-09 09:00:00</th>\n",
       "      <td>8338000</td>\n",
       "      <td>8340000</td>\n",
       "      <td>8041000</td>\n",
       "      <td>8148000.0</td>\n",
       "      <td>2491.809101</td>\n",
       "    </tr>\n",
       "    <tr>\n",
       "      <th>2017-11-08 09:00:00</th>\n",
       "      <td>8244000</td>\n",
       "      <td>8639000</td>\n",
       "      <td>8060000</td>\n",
       "      <td>8339000.0</td>\n",
       "      <td>2280.720492</td>\n",
       "    </tr>\n",
       "    <tr>\n",
       "      <th>2017-11-07 09:00:00</th>\n",
       "      <td>8060000</td>\n",
       "      <td>8413000</td>\n",
       "      <td>8050000</td>\n",
       "      <td>8243000.0</td>\n",
       "      <td>1858.955895</td>\n",
       "    </tr>\n",
       "  </tbody>\n",
       "</table>\n",
       "<p>1599 rows × 5 columns</p>\n",
       "</div>"
      ],
      "text/plain": [
       "                         Open      High       Low       Close       Volume\n",
       "DateTime                                                                  \n",
       "2022-03-24 09:00:00  52138000  53416000  51800000  52966000.0  7289.941854\n",
       "2022-03-23 09:00:00  51689000  52232000  51118000  52138000.0  5293.402954\n",
       "2022-03-22 09:00:00  50128000  52396000  50013000  51704000.0  8395.367481\n",
       "2022-03-21 09:00:00  50471000  50756000  49832000  50128000.0  4418.715829\n",
       "2022-03-20 09:00:00  51245000  51350000  50001000  50462000.0  4050.028652\n",
       "...                       ...       ...       ...         ...          ...\n",
       "2017-11-11 09:00:00   7541000   7897000   7009000   7231000.0  3407.257305\n",
       "2017-11-10 09:00:00   8150000   8240000   7320000   7541000.0  3612.895643\n",
       "2017-11-09 09:00:00   8338000   8340000   8041000   8148000.0  2491.809101\n",
       "2017-11-08 09:00:00   8244000   8639000   8060000   8339000.0  2280.720492\n",
       "2017-11-07 09:00:00   8060000   8413000   8050000   8243000.0  1858.955895\n",
       "\n",
       "[1599 rows x 5 columns]"
      ]
     },
     "execution_count": 69,
     "metadata": {},
     "output_type": "execute_result"
    }
   ],
   "source": [
    "res_df"
   ]
  },
  {
   "cell_type": "code",
   "execution_count": 70,
   "metadata": {},
   "outputs": [
    {
     "ename": "NameError",
     "evalue": "name '머ᅩ르겠어' is not defined",
     "output_type": "error",
     "traceback": [
      "\u001b[1;31m---------------------------------------------------------------------------\u001b[0m",
      "\u001b[1;31mNameError\u001b[0m                                 Traceback (most recent call last)",
      "\u001b[1;32m~\\AppData\\Local\\Temp/ipykernel_33452/2893289042.py\u001b[0m in \u001b[0;36m<module>\u001b[1;34m\u001b[0m\n\u001b[1;32m----> 1\u001b[1;33m \u001b[0m머ㅗ르겠어\u001b[0m\u001b[1;33m\u001b[0m\u001b[1;33m\u001b[0m\u001b[0m\n\u001b[0m\u001b[0;32m      2\u001b[0m \u001b[0m모르겠어\u001b[0m\u001b[1;33m\u001b[0m\u001b[1;33m\u001b[0m\u001b[0m\n",
      "\u001b[1;31mNameError\u001b[0m: name '머ᅩ르겠어' is not defined"
     ]
    }
   ],
   "source": [
    "머ㅗ르겠어\n",
    "모르겠어"
   ]
  },
  {
   "cell_type": "code",
   "execution_count": null,
   "metadata": {},
   "outputs": [],
   "source": []
  }
 ],
 "metadata": {
  "interpreter": {
   "hash": "89f8b5fff75b2d8ca621f0b371f1d64751a06b7789195e8887ef7855e4487b82"
  },
  "kernelspec": {
   "display_name": "Python 3.9.7 64-bit",
   "language": "python",
   "name": "python3"
  },
  "language_info": {
   "codemirror_mode": {
    "name": "ipython",
    "version": 3
   },
   "file_extension": ".py",
   "mimetype": "text/x-python",
   "name": "python",
   "nbconvert_exporter": "python",
   "pygments_lexer": "ipython3",
   "version": "3.9.7"
  },
  "orig_nbformat": 4
 },
 "nbformat": 4,
 "nbformat_minor": 2
}
