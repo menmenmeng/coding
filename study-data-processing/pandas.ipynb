{
 "cells": [
  {
   "cell_type": "markdown",
   "source": [
    "## pandas 기초 문법 실습"
   ],
   "metadata": {}
  },
  {
   "cell_type": "code",
   "execution_count": 6,
   "source": [
    "import numpy as np\r\n",
    "import pandas as pd\r\n",
    "\r\n",
    "# https://www.kaggle.com/c/house-prices-advanced-regression-techniques/data\r\n",
    "# getting started - house prices data 예시로 사용\r\n",
    "\r\n",
    "root_dir = '../data-examples'\r\n",
    "df = pd.read_csv(root_dir + '/house-prices-advanced-regression-techniques/train.csv')\r\n",
    "print(f'row 개수 : {len(df)}, column 개수 : {len(df.columns)}')"
   ],
   "outputs": [
    {
     "output_type": "stream",
     "name": "stdout",
     "text": [
      "row 개수 : 1460, column 개수 : 81\n"
     ]
    }
   ],
   "metadata": {}
  },
  {
   "cell_type": "markdown",
   "source": [
    "### pandas display option"
   ],
   "metadata": {}
  },
  {
   "cell_type": "code",
   "execution_count": null,
   "source": [
    "# max_columns, max_rows 설정\r\n",
    "pd.set_option('display.max_columns', 100)\r\n",
    "# pd.set_option('display.max_columns', None) # limit 없음\r\n",
    "pd.set_option('display.max_rows', 100)\r\n",
    "# pd.set_option('display.max_rows', None) # limit 없음"
   ],
   "outputs": [],
   "metadata": {}
  },
  {
   "cell_type": "code",
   "execution_count": null,
   "source": [
    "# 출력되는 item 수 limit 해제하기\r\n",
    "pd.set_option('display.max_seq_items', None)"
   ],
   "outputs": [],
   "metadata": {}
  },
  {
   "cell_type": "code",
   "execution_count": null,
   "source": [
    "# 출력창 크기 조절하기\r\n",
    "pd.set_option('display.width', 10) # 한 줄에 하나씩 출력하고 싶을 때. 작은 수를 넣어서 사용"
   ],
   "outputs": [],
   "metadata": {}
  },
  {
   "cell_type": "markdown",
   "source": [
    "### data load method"
   ],
   "metadata": {}
  },
  {
   "cell_type": "code",
   "execution_count": null,
   "source": [
    "# csv load\r\n",
    "filepath = root_dir+'/house-prices-advanced-regression-techniques/train.csv'\r\n",
    "pd.read_csv(filepath)"
   ],
   "outputs": [],
   "metadata": {}
  },
  {
   "cell_type": "code",
   "execution_count": null,
   "source": [
    "# 여러 형태 load\r\n",
    "filepath = root_dir+'/house-prices-advanced-regression-techniques/train.csv'\r\n",
    "pd.read_csv(filepath, sep='|', encoding='utf') # |로 구분되는 파일 & utf-8로 encoding된 파일"
   ],
   "outputs": [],
   "metadata": {}
  },
  {
   "cell_type": "markdown",
   "source": [
    "### null 처리 method"
   ],
   "metadata": {}
  },
  {
   "cell_type": "code",
   "execution_count": null,
   "source": [
    "# null 개수 파악\r\n",
    "df.isna().sum() # column별로 나타냄\r\n",
    "df.isna().sum(axis=1) # row별로 나타냄"
   ],
   "outputs": [],
   "metadata": {}
  },
  {
   "cell_type": "code",
   "execution_count": null,
   "source": [
    "# null 행/열 제거\r\n",
    "df.dropna(axis=0, inplace=True) # row제거\r\n",
    "df.dropna(axis=1, inplace=True) # column제거"
   ],
   "outputs": [],
   "metadata": {}
  },
  {
   "cell_type": "markdown",
   "source": [
    "### 문자열 처리, 문자열 치환 정규 표현식"
   ],
   "metadata": {}
  },
  {
   "cell_type": "code",
   "execution_count": null,
   "source": [
    "# DataFrame 내의 문자열에 접근하는 방법\r\n",
    "df.GarageQual[df.GarageQual.str[1]=='A'] # GarageQual의 string자료의 [1]이 'A'인 것만 추출"
   ],
   "outputs": [],
   "metadata": {}
  },
  {
   "cell_type": "code",
   "execution_count": null,
   "source": [
    "# 정규 표현식 이용해 문자열 일부 수정\r\n",
    "df.replace(r'[^0-9A-Za-z가-힣]+','',regex=True) # (수정할 문자열, 수정결과 문자열, regex=True) 정규표현식위해 regex=True\r\n",
    "df['GarageQual'] = df['GarageQual'].str.replace('A', 'a') # 이처럼 정규표현식 없이도 부분 변경 가능하긴 함"
   ],
   "outputs": [],
   "metadata": {}
  }
 ],
 "metadata": {
  "orig_nbformat": 4,
  "language_info": {
   "name": "python",
   "version": "3.9.7",
   "mimetype": "text/x-python",
   "codemirror_mode": {
    "name": "ipython",
    "version": 3
   },
   "pygments_lexer": "ipython3",
   "nbconvert_exporter": "python",
   "file_extension": ".py"
  },
  "kernelspec": {
   "name": "python3",
   "display_name": "Python 3.9.7 64-bit"
  },
  "interpreter": {
   "hash": "89f8b5fff75b2d8ca621f0b371f1d64751a06b7789195e8887ef7855e4487b82"
  }
 },
 "nbformat": 4,
 "nbformat_minor": 2
}