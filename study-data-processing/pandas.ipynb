{
 "cells": [
  {
   "cell_type": "markdown",
   "source": [
    "## pandas 기초 문법 실습"
   ],
   "metadata": {}
  },
  {
   "cell_type": "code",
   "execution_count": 2,
   "source": [
    "import numpy as np\r\n",
    "import pandas as pd\r\n",
    "\r\n",
    "# https://www.kaggle.com/c/house-prices-advanced-regression-techniques/data\r\n",
    "# getting started - house prices data 예시로 사용\r\n",
    "\r\n",
    "root_dir = '../data-examples'\r\n",
    "df = pd.read_csv(root_dir + '/house-prices-advanced-regression-techniques/train.csv')\r\n",
    "print(f'row 개수 : {len(df)}, column 개수 : {len(df.columns)}')"
   ],
   "outputs": [
    {
     "output_type": "stream",
     "name": "stdout",
     "text": [
      "row 개수 : 1460, column 개수 : 81\n"
     ]
    }
   ],
   "metadata": {}
  },
  {
   "cell_type": "markdown",
   "source": [
    "### pandas display option"
   ],
   "metadata": {}
  },
  {
   "cell_type": "code",
   "execution_count": null,
   "source": [
    "# max_columns, max_rows 설정\r\n",
    "pd.set_option('display.max_columns', 100)\r\n",
    "# pd.set_option('display.max_columns', None) # limit 없음\r\n",
    "pd.set_option('display.max_rows', 100)\r\n",
    "# pd.set_option('display.max_rows', None) # limit 없음"
   ],
   "outputs": [],
   "metadata": {}
  },
  {
   "cell_type": "code",
   "execution_count": null,
   "source": [
    "# 출력되는 item 수 limit 해제하기\r\n",
    "pd.set_option('display.max_seq_items', None)"
   ],
   "outputs": [],
   "metadata": {}
  },
  {
   "cell_type": "code",
   "execution_count": null,
   "source": [
    "# 출력창 크기 조절하기\r\n",
    "pd.set_option('display.width', 10) # 한 줄에 하나씩 출력하고 싶을 때. 작은 수를 넣어서 사용"
   ],
   "outputs": [],
   "metadata": {}
  },
  {
   "cell_type": "markdown",
   "source": [
    "### data load method"
   ],
   "metadata": {}
  },
  {
   "cell_type": "code",
   "execution_count": null,
   "source": [
    "# csv load\r\n",
    "filepath = root_dir+'/house-prices-advanced-regression-techniques/train.csv'\r\n",
    "pd.read_csv(filepath)"
   ],
   "outputs": [],
   "metadata": {}
  },
  {
   "cell_type": "code",
   "execution_count": null,
   "source": [
    "# 여러 형태 load\r\n",
    "filepath = root_dir+'/house-prices-advanced-regression-techniques/train.csv'\r\n",
    "pd.read_csv(filepath, sep='|', encoding='utf') # |로 구분되는 파일 & utf-8로 encoding된 파일"
   ],
   "outputs": [],
   "metadata": {}
  },
  {
   "cell_type": "markdown",
   "source": [
    "### null 처리 method"
   ],
   "metadata": {}
  },
  {
   "cell_type": "code",
   "execution_count": null,
   "source": [
    "# null 개수 파악\r\n",
    "df.isna().sum() # column별로 나타냄\r\n",
    "df.isna().sum(axis=1) # row별로 나타냄"
   ],
   "outputs": [],
   "metadata": {}
  },
  {
   "cell_type": "code",
   "execution_count": null,
   "source": [
    "# null 행/열 제거\r\n",
    "df.dropna(axis=0, inplace=True) # row제거\r\n",
    "df.dropna(axis=1, inplace=True) # column제거"
   ],
   "outputs": [],
   "metadata": {}
  },
  {
   "cell_type": "markdown",
   "source": [
    "### 문자열 처리, 문자열 치환 정규 표현식"
   ],
   "metadata": {}
  },
  {
   "cell_type": "code",
   "execution_count": 1,
   "source": [
    "# DataFrame 내의 문자열에 접근하는 방법\r\n",
    "df.GarageQual[df.GarageQual.str[1]=='A'] # GarageQual의 string자료의 [1]이 'A'인 것만 추출"
   ],
   "outputs": [
    {
     "output_type": "error",
     "ename": "NameError",
     "evalue": "name 'df' is not defined",
     "traceback": [
      "\u001b[1;31m---------------------------------------------------------------------------\u001b[0m",
      "\u001b[1;31mNameError\u001b[0m                                 Traceback (most recent call last)",
      "\u001b[1;32m~\\AppData\\Local\\Temp/ipykernel_3940/3244822812.py\u001b[0m in \u001b[0;36m<module>\u001b[1;34m\u001b[0m\n\u001b[0;32m      1\u001b[0m \u001b[1;31m# DataFrame 내의 문자열에 접근하는 방법\u001b[0m\u001b[1;33m\u001b[0m\u001b[1;33m\u001b[0m\u001b[0m\n\u001b[1;32m----> 2\u001b[1;33m \u001b[0mdf\u001b[0m\u001b[1;33m.\u001b[0m\u001b[0mGarageQual\u001b[0m\u001b[1;33m[\u001b[0m\u001b[0mdf\u001b[0m\u001b[1;33m.\u001b[0m\u001b[0mGarageQual\u001b[0m\u001b[1;33m.\u001b[0m\u001b[0mstr\u001b[0m\u001b[1;33m[\u001b[0m\u001b[1;36m1\u001b[0m\u001b[1;33m]\u001b[0m\u001b[1;33m==\u001b[0m\u001b[1;34m'A'\u001b[0m\u001b[1;33m]\u001b[0m \u001b[1;31m# GarageQual의 string자료의 [1]이 'A'인 것만 추출\u001b[0m\u001b[1;33m\u001b[0m\u001b[1;33m\u001b[0m\u001b[0m\n\u001b[0m",
      "\u001b[1;31mNameError\u001b[0m: name 'df' is not defined"
     ]
    }
   ],
   "metadata": {}
  },
  {
   "cell_type": "code",
   "execution_count": null,
   "source": [
    "# 정규 표현식 이용해 문자열 일부 수정\r\n",
    "df.replace(r'[^0-9A-Za-z가-힣]+','',regex=True) # (수정할 문자열, 수정결과 문자열, regex=True) 정규표현식위해 regex=True\r\n",
    "df['GarageQual'] = df['GarageQual'].str.replace('A', 'a') # 이처럼 정규표현식 없이도 부분 변경 가능하긴 함"
   ],
   "outputs": [],
   "metadata": {}
  },
  {
   "cell_type": "markdown",
   "source": [
    "### DataFrame 값 일부 수정하기"
   ],
   "metadata": {}
  },
  {
   "cell_type": "code",
   "execution_count": null,
   "source": [
    "# 여러 개의 데이터에 접근하고 데이터 수정하기\r\n",
    "df['LotShape'][df['LotShape']=='Reg'] = '3' # LotShape 가 Reg인 행의, LotShape 열을 3으로 수정. "
   ],
   "outputs": [],
   "metadata": {}
  },
  {
   "cell_type": "code",
   "execution_count": null,
   "source": [
    "# 하나의 데이터 수정하기\r\n",
    "col_id = list(df.columns).index('LandContour')\r\n",
    "df.iloc[3, 8] = 10 # 3, 8 위치의 셀 값을 10으로 수정"
   ],
   "outputs": [],
   "metadata": {}
  },
  {
   "cell_type": "markdown",
   "source": [
    "### Groupby"
   ],
   "metadata": {}
  },
  {
   "cell_type": "markdown",
   "source": [
    "#### 기준이 되는 범주형 변수의 각 범주마다, sum이나 mean, size, count 등 집계함수를 사용하는 방법"
   ],
   "metadata": {}
  },
  {
   "cell_type": "code",
   "execution_count": null,
   "source": [
    "# groupby 기본적 사용방법 : LotShape라는 열의 각 범주에 대해, OverallQual, MasVnrArea의 sum값을 구하는 것\r\n",
    "df.groupby('LotShape', as_index=False).sum()[['LotShape', 'OverallQual', 'MasVnrArea']]\r\n",
    "# as_index를 False로 하면 index를 포함하지 않게 됨, 그래서 집계함수 오른쪽에 열 선택할 때 Level에 사용된 col도 넣어줘야"
   ],
   "outputs": [],
   "metadata": {}
  },
  {
   "cell_type": "code",
   "execution_count": null,
   "source": [
    "# 두 개의 기준에 대해 groupby하여 집계함수 짜기\r\n",
    "df.groupby(['Street','LotShape']).sum()[['OverallQual','MasVnrArea']]\r\n",
    "# as_index가 False이면 Street, LotShape가 index가 됨"
   ],
   "outputs": [],
   "metadata": {}
  },
  {
   "cell_type": "code",
   "execution_count": null,
   "source": [
    "# 각 column에 대해 각기 다른 집계함수 적용하기\r\n",
    "df.groupby(['Street','LotShape']).agg({'OverallQual':np.sum, 'MasVnrArea':np.mean})"
   ],
   "outputs": [],
   "metadata": {}
  },
  {
   "cell_type": "code",
   "execution_count": null,
   "source": [
    "# 각 column에 대해 각기 다른 집계함수 적용하기 - 더 일반화된 방법\r\n",
    "def func(x):\r\n",
    "    return pd.Series([x.OverallQual.sum(), x.MasVnrArea.mean(), (x.OverallQual*x.MasVnrArea).mean()], \r\n",
    "                     index = ['OverallQualSUM','MasVnrAreaMEAN','MultiplyMEAN'])\r\n",
    "# OverallQual에는 sum, MaxVnrArea에는 mean을 적용하고 또한 기존컬럼 두개 이상을 이용해 새 집계함수를 작성해서 적용\r\n",
    "df.groupby(['Street','LotShape']).apply(func)"
   ],
   "outputs": [],
   "metadata": {}
  },
  {
   "cell_type": "markdown",
   "source": [
    "#### MultiIndex 처리 방법"
   ],
   "metadata": {}
  },
  {
   "cell_type": "code",
   "execution_count": 22,
   "source": [
    "# 북마크에 멀티인덱스 라는 이름으로 저장돼있음, 나중에 정리할게요"
   ],
   "outputs": [],
   "metadata": {}
  }
 ],
 "metadata": {
  "orig_nbformat": 4,
  "language_info": {
   "name": "python",
   "version": "3.9.7",
   "mimetype": "text/x-python",
   "codemirror_mode": {
    "name": "ipython",
    "version": 3
   },
   "pygments_lexer": "ipython3",
   "nbconvert_exporter": "python",
   "file_extension": ".py"
  },
  "kernelspec": {
   "name": "python3",
   "display_name": "Python 3.9.7 64-bit"
  },
  "interpreter": {
   "hash": "89f8b5fff75b2d8ca621f0b371f1d64751a06b7789195e8887ef7855e4487b82"
  }
 },
 "nbformat": 4,
 "nbformat_minor": 2
}