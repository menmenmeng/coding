{
 "cells": [
  {
   "cell_type": "code",
   "execution_count": 2,
   "metadata": {},
   "outputs": [],
   "source": [
    "import pandas as pd\n",
    "import quandl\n",
    "from statsmodels.tsa.seasonal import seasonal_decompose\n",
    "import KEYS"
   ]
  },
  {
   "cell_type": "code",
   "execution_count": 3,
   "metadata": {},
   "outputs": [],
   "source": [
    "QUANDL_KEY = KEYS.QUANDL_KEY\n",
    "quandl.ApiConfig.api_key = QUANDL_KEY\n",
    "\n",
    "df = quandl.get(\n",
    "    dataset='WGC/GOLD_MONAVG_USD',\n",
    "    start_date='2000-01-01',\n",
    "    end_date='2011-12-31'\n",
    ")\n",
    "\n",
    "df.rename(columns={'Value':'price'}, inplace=True)\n",
    "df = df.resample('M').last()"
   ]
  },
  {
   "cell_type": "code",
   "execution_count": null,
   "metadata": {},
   "outputs": [],
   "source": []
  }
 ],
 "metadata": {
  "interpreter": {
   "hash": "89f8b5fff75b2d8ca621f0b371f1d64751a06b7789195e8887ef7855e4487b82"
  },
  "kernelspec": {
   "display_name": "Python 3.9.7 64-bit",
   "language": "python",
   "name": "python3"
  },
  "language_info": {
   "codemirror_mode": {
    "name": "ipython",
    "version": 3
   },
   "file_extension": ".py",
   "mimetype": "text/x-python",
   "name": "python",
   "nbconvert_exporter": "python",
   "pygments_lexer": "ipython3",
   "version": "3.9.7"
  },
  "orig_nbformat": 4
 },
 "nbformat": 4,
 "nbformat_minor": 2
}
